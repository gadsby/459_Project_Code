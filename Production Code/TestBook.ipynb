{
 "cells": [
  {
   "cell_type": "code",
   "execution_count": 1,
   "metadata": {
    "collapsed": false
   },
   "outputs": [],
   "source": [
    "import threading\n",
    "import operationFuncs\n",
    "import dataSaving\n",
    "import numpy as np\n",
    "import config\n",
    "import time"
   ]
  },
  {
   "cell_type": "code",
   "execution_count": 2,
   "metadata": {
    "collapsed": false
   },
   "outputs": [
    {
     "name": "stdout",
     "output_type": "stream",
     "text": [
      "\tTorque Profile: /Users/olivergadsby/Desktop/MATLAB_code.csv\n",
      "\tResolution (s): 0.0001\n",
      "\tPoints Per Second: 10000\n",
      "\tFalltime (s): 0.5\n",
      "\tResolution Multiplier: 98.0588235294\n",
      "\n"
     ]
    }
   ],
   "source": [
    "operationFuncs.genTorqueList()"
   ]
  },
  {
   "cell_type": "code",
   "execution_count": 8,
   "metadata": {
    "collapsed": false
   },
   "outputs": [
    {
     "name": "stdout",
     "output_type": "stream",
     "text": [
      "01_Sun_15_37_57.csv\r\n",
      "02_Sun_16_04_39.csv\r\n",
      "03_Sun_16_04_42.csv\r\n",
      "04_Sun_16_04_45.csv\r\n",
      "05_Sun_16_04_49.csv\r\n"
     ]
    }
   ],
   "source": [
    "dataPath = '/Users/olivergadsby/Desktop/ENPH 459/459_Project_Code/Results/week08_Feb29-Mar06/Sunday_Mar-06/'\n",
    "! ls -1 '/Users/olivergadsby/Desktop/ENPH 459/459_Project_Code/Results/week08_Feb29-Mar06/Sunday_Mar-06/'"
   ]
  },
  {
   "cell_type": "code",
   "execution_count": 9,
   "metadata": {
    "collapsed": false
   },
   "outputs": [],
   "source": [
    "filePath = '01_Sun_15_37_57.csv'\n",
    "fullPath = dataPath + filePath\n",
    "text = np.genfromtxt(fullPath, delimiter=',')"
   ]
  },
  {
   "cell_type": "code",
   "execution_count": 95,
   "metadata": {
    "collapsed": false
   },
   "outputs": [
    {
     "data": {
      "text/plain": [
       "164823"
      ]
     },
     "execution_count": 95,
     "metadata": {},
     "output_type": "execute_result"
    },
    {
     "data": {
      "image/png": "[encoded data removed]",
      "text/plain": [
       "<matplotlib.figure.Figure at 0x1197d4c10>"
      ]
     },
     "metadata": {},
     "output_type": "display_data"
    }
   ],
   "source": [
    "import matplotlib.pyplot as plt\n",
    "% matplotlib inline\n",
    "plt.plot(text[:,0])\n",
    "\n",
    "len(text[:,0])"
   ]
  },
  {
   "cell_type": "code",
   "execution_count": 96,
   "metadata": {
    "collapsed": false
   },
   "outputs": [
    {
     "data": {
      "text/plain": [
       "array([  5.80430000e-01,   3.10000000e-05,   3.70000000e-05, ...,\n",
       "         4.99993000e-01,   4.99996000e-01,   4.99999000e-01])"
      ]
     },
     "execution_count": 96,
     "metadata": {},
     "output_type": "execute_result"
    }
   ],
   "source": [
    "text[:,0]"
   ]
  },
  {
   "cell_type": "code",
   "execution_count": null,
   "metadata": {
    "collapsed": false
   },
   "outputs": [],
   "source": []
  },
  {
   "cell_type": "code",
   "execution_count": 97,
   "metadata": {
    "collapsed": false
   },
   "outputs": [
    {
     "data": {
      "text/plain": [
       "3.0335511427410014e-06"
      ]
     },
     "execution_count": 97,
     "metadata": {},
     "output_type": "execute_result"
    }
   ],
   "source": [
    "text[-1,0]/len(text[:,0])"
   ]
  },
  {
   "cell_type": "code",
   "execution_count": 4,
   "metadata": {
    "collapsed": false
   },
   "outputs": [
    {
     "name": "stdout",
     "output_type": "stream",
     "text": [
      "01_Sun_15_37_57.csv\r\n",
      "02_Sun_16_04_39.csv\r\n",
      "03_Sun_16_04_42.csv\r\n",
      "04_Sun_16_04_45.csv\r\n",
      "05_Sun_16_04_49.csv\r\n"
     ]
    }
   ],
   "source": []
  },
  {
   "cell_type": "code",
   "execution_count": 25,
   "metadata": {
    "collapsed": false
   },
   "outputs": [
    {
     "name": "stdout",
     "output_type": "stream",
     "text": [
      "torqueListPath\t/Users/olivergadsby/Desktop/MATLAB_code.csv\n",
      "kp\t1\n",
      "kd\t0\n",
      "ki\t0\n",
      "shankLength\t0\n",
      "thighLength\t0\n",
      "trunkLength\t0\n",
      "shankMass\t0\n",
      "thighMass\t0\n",
      "trunkMass\t0\n",
      "initialAngle_Knee\t0\n",
      "initialAngle_Hip\t0\n",
      "calibratedValues\t[]\n"
     ]
    }
   ],
   "source": [
    "# generate metadata\n",
    "metadataNames = ['torqueListPath', 'kp', 'kd', 'ki', 'shankLength', 'thighLength',\n",
    " 'trunkLength', 'shankMass', 'thighMass', 'trunkMass', 'initialAngle_Knee',\n",
    "  'initialAngle_Hip', 'calibratedValues']\n",
    "\n",
    "metadata = '\\n'.join(['{}\\t{}'.format(name, eval('config.'+name)) for name in metadataNames])\n",
    "    \n",
    "#np.savetxt(fullPath, self.fallingData, delimiter=',', header=metadataTuples)"
   ]
  },
  {
   "cell_type": "code",
   "execution_count": null,
   "metadata": {
    "collapsed": true
   },
   "outputs": [],
   "source": []
  }
 ],
 "metadata": {
  "kernelspec": {
   "display_name": "Python 2",
   "language": "python",
   "name": "python2"
  },
  "language_info": {
   "codemirror_mode": {
    "name": "ipython",
    "version": 2
   },
   "file_extension": ".py",
   "mimetype": "text/x-python",
   "name": "python",
   "nbconvert_exporter": "python",
   "pygments_lexer": "ipython2",
   "version": "2.7.11"
  }
 },
 "nbformat": 4,
 "nbformat_minor": 0
}
